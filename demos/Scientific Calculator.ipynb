{
 "cells": [
  {
   "cell_type": "markdown",
   "metadata": {},
   "source": [
    "# Scientific calculator\n",
    "\n",
    "\n",
    "\n",
    "- `fabs()`, `abs()`, `sin()`, `cos()`, `gcd()`, `log()` and more (See [math](https://docs.python.org/3/library/math.html))\n",
    "\n",
    "- Descriptive statistics (See [statistics](https://docs.python.org/3/library/statistics.html#module-statistics))\n",
    "\n",
    "- Develop your own functions: unit conversion, finding correlation, .., anything really\n",
    "\n",
    "- Use PYTHONSTARTUP to extend the battery of readily available mathematical functions\n",
    "\n",
    "\n",
    "But then, there's more! You are not limited to the functions from those libraries, you can write your own custom functions and make them available whenever you start your Python interpreter. How?\n",
    "\n",
    "Use PYTHONSTARTUP!\n",
    "\n",
    "```python\n",
    "$ PYTHONSTARTUP=~/sypy-july-2016/py-files/startup_math.py idle3 -s\n",
    "```\n",
    "\n",
    "```\n",
    "\n",
    ">>> unit_conversion()\n",
    "1. Kilometers to Miles\n",
    "2. Miles to Kilometers\n",
    "3. Kilograms to Pounds\n",
    "4. Pounds to Kilograms\n",
    "5. Celsius to Fahrenheit\n",
    "6. Fahrenheit to Celsius\n",
    "Which conversion would you like to do? 6\n",
    "Enter temperature in fahrenheit: 98\n",
    "Temperature in celsius: 36.66666666666667\n",
    "```\n",
    "\n",
    "\n",
    "```\n",
    ">>> \n",
    ">>> x = [1, 2, 3, 4]\n",
    ">>> y = [2, 4, 6.1, 7.9]\n",
    ">>> find_corr_x_y(x, y)\n",
    "0.9995411791453812\n",
    "```"
   ]
  },
  {
   "cell_type": "code",
   "execution_count": null,
   "metadata": {
    "collapsed": true
   },
   "outputs": [],
   "source": []
  }
 ],
 "metadata": {
  "kernelspec": {
   "display_name": "Python 3",
   "language": "python",
   "name": "python3"
  },
  "language_info": {
   "codemirror_mode": {
    "name": "ipython",
    "version": 3
   },
   "file_extension": ".py",
   "mimetype": "text/x-python",
   "name": "python",
   "nbconvert_exporter": "python",
   "pygments_lexer": "ipython3",
   "version": "3.5.1"
  }
 },
 "nbformat": 4,
 "nbformat_minor": 0
}
