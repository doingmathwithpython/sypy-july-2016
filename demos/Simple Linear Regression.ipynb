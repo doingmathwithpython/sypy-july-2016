{
 "cells": [
  {
   "cell_type": "code",
   "execution_count": 1,
   "metadata": {
    "collapsed": false
   },
   "outputs": [
    {
     "data": {
      "image/png": "[encoded data removed]",
      "text/plain": [
       "<matplotlib.figure.Figure at 0x10bf70320>"
      ]
     },
     "metadata": {},
     "output_type": "display_data"
    }
   ],
   "source": [
    "%matplotlib inline\n",
    "\n",
    "# Using gradient descent for linear regression\n",
    "# Ideas from https://spin.atomicobject.com/2014/06/24/gradient-descent-linear-regression/\n",
    "\n",
    "# We will attempt to predict the college admission test score based\n",
    "# on the high school math score (following on Chapter 3 of \"Doing Math with Python\")\n",
    "\n",
    "# Known data\n",
    "x_data = [83, 85, 84, 96, 94, 86, 87, 97, 97, 85]\n",
    "y_data = [85, 87, 86, 97, 96, 88, 89, 98, 98, 87]\n",
    "\n",
    "from sympy import Symbol, Derivative\n",
    "import matplotlib.pyplot as plt\n",
    "\n",
    "# Assumed linear model\n",
    "# x = math score in high school\n",
    "# y = admission test score\n",
    "\n",
    "# y = m*x + c\n",
    "def estimate_y(x, m, c):\n",
    "    y_estimated = m*x + c\n",
    "    return y_estimated\n",
    "\n",
    "def estimate_theta(m_current, c_current, max_iterations=50000):\n",
    "    learning_rate = 0.0001\n",
    "    m_gradient = 0\n",
    "    c_gradient = 0\n",
    "    N = len(x_data)\n",
    "    \n",
    "    m = Symbol('m')\n",
    "    c = Symbol('c')\n",
    "    y = Symbol('y')\n",
    "    x = Symbol('x')\n",
    "    # Error term\n",
    "    error_term = (y - (m*x+c))**2\n",
    "    # Error function = 1/n*sum(error_term)\n",
    "    for i in range(max_iterations):\n",
    "        for i in range(0, N):\n",
    "            m_gradient += (1/N)*Derivative(error_term, m).doit().subs({x:x_data[i], y:y_data[i], m:m_current, c:c_current})\n",
    "            c_gradient += (1/N)*Derivative(error_term, c).doit().subs({x:x_data[i], y:y_data[i], m:m_current, c:c_current})\n",
    "\n",
    "        m_new = m_current - (learning_rate * m_gradient)\n",
    "        c_new = c_current - (learning_rate * c_gradient)\n",
    "        if abs(m_new - m_current) < 1e-5 or abs(c_new - c_current) < 1e-5:\n",
    "            break\n",
    "        else:\n",
    "            m_current = m_new\n",
    "            c_curret = c_new\n",
    "    return m_new, c_new\n",
    "        \n",
    "m, c = estimate_theta(1, 1)\n",
    "\n",
    "# Let's try and unknown set of data \n",
    "# This data set is different and widely spread, \n",
    "# but they are very similarly correlated\n",
    "x_data = [63, 61, 98, 76, 74, 59, 40, 87, 71, 75]\n",
    "y_data = [65, 62, 99, 78, 75, 60, 42, 89, 71, 77]\n",
    "\n",
    "y_estimated = [estimate_y(x, m, c) for x in x_data]\n",
    "plt.plot(x_data, y_data, 'ro')\n",
    "plt.plot(x_data, y_estimated, 'b*')\n",
    "plt.legend(['Actual', 'Estimated'], loc='best')\n",
    "plt.show()\n"
   ]
  },
  {
   "cell_type": "code",
   "execution_count": null,
   "metadata": {
    "collapsed": true
   },
   "outputs": [],
   "source": []
  }
 ],
 "metadata": {
  "kernelspec": {
   "display_name": "Python 3",
   "language": "python",
   "name": "python3"
  },
  "language_info": {
   "codemirror_mode": {
    "name": "ipython",
    "version": 3
   },
   "file_extension": ".py",
   "mimetype": "text/x-python",
   "name": "python",
   "nbconvert_exporter": "python",
   "pygments_lexer": "ipython3",
   "version": "3.5.1"
  }
 },
 "nbformat": 4,
 "nbformat_minor": 0
}
