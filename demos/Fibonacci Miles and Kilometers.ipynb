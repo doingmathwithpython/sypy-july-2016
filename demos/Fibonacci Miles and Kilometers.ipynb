{
 "cells": [
  {
   "cell_type": "code",
   "execution_count": 4,
   "metadata": {
    "collapsed": false
   },
   "outputs": [],
   "source": [
    "%matplotlib inline\n",
    "# This is a demonstration of \n",
    "# https://www.reddit.com/r/AskReddit/comments/4kz3di/whats_your_favourite_maths_fact/d3j55hv\n",
    "\n",
    "import matplotlib.pyplot as plt\n",
    "\n",
    "# This function returns a list of the first n fibonacci numbers\n",
    "def fibo(n):\n",
    "    if n == 1:\n",
    "        return [1]\n",
    "    if n == 2:\n",
    "        return [1, 1]\n",
    "    # n > 2\n",
    "    a = 1\n",
    "    b = 1\n",
    "    # first two members of the series\n",
    "    series = [a, b]\n",
    "    for i in range(n):\n",
    "        c = a + b\n",
    "        series.append(c)\n",
    "        a = b\n",
    "        b = c\n",
    "\n",
    "    return series\n"
   ]
  },
  {
   "cell_type": "markdown",
   "metadata": {},
   "source": [
    "Next, we plot a graph showing the ratio between consective fibonacci numbers and the ration between a measurement kilometer and the corresponding mile"
   ]
  },
  {
   "cell_type": "code",
   "execution_count": 6,
   "metadata": {
    "collapsed": false
   },
   "outputs": [
    {
     "data": {
      "image/png": "[encoded data removed]",
      "text/plain": [
       "<matplotlib.figure.Figure at 0x103da3198>"
      ]
     },
     "metadata": {},
     "output_type": "display_data"
    }
   ],
   "source": [
    "\n",
    "def plot_fibo_ratio(series):\n",
    "    ratios = []\n",
    "    for i in range(len(series)-1):\n",
    "        ratios.append(series[i+1]/series[i])\n",
    "    plt.plot(ratios, 'b*')\n",
    "    plt.ylabel('Ratio')\n",
    "    plt.xlabel('No.')\n",
    "\n",
    "def plot_km_miles_ratio(kms):\n",
    "    miles_km = [1.6094*km/km for km in kms]\n",
    "    plt.plot(miles_km, 'ro')\n",
    "\n",
    "num = 100\n",
    "series = fibo(num)\n",
    "plot_fibo_ratio(series)\n",
    "plot_km_miles_ratio(series)\n",
    "plt.title('Ratio between Fibonacci numbers & Golden ratio')\n",
    "plt.legend(['Fibonacci Numbers', 'Miles/Km'])\n",
    "plt.show()"
   ]
  },
  {
   "cell_type": "markdown",
   "metadata": {},
   "source": [
    "The above graph shows that the ratio between consecutive Fibonacci numbers and a distance measurement in kilometer and mile is close to being the same (~ 1.6), popularly referred to as the Golden Ratio.\n",
    "\n",
    "Next, we plot a graph showing the approximated distance in kilometers using the idea in the Reddit thread above and the exact distance based on the known formula."
   ]
  },
  {
   "cell_type": "code",
   "execution_count": 9,
   "metadata": {
    "collapsed": false
   },
   "outputs": [
    {
     "data": {
      "image/png": "[encoded data removed]",
      "text/plain": [
       "<matplotlib.figure.Figure at 0x10d3cb128>"
      ]
     },
     "metadata": {},
     "output_type": "display_data"
    }
   ],
   "source": [
    "def estimate_kms(miles):\n",
    "    approx_kms = []\n",
    "    exact_kms = [1.6094*m for m in miles[1:]]\n",
    "    for i in range(len(series)-1):\n",
    "        approx_kms.append(series[i]+series[i+1])\n",
    "\n",
    "    plt.figure(2)\n",
    "    plt.plot(approx_kms, exact_kms, 'ro')\n",
    "    plt.title('Approximating kilometers using fibonacci')\n",
    "\n",
    "series = fibo(num)\n",
    "estimate_kms(series)\n",
    "\n",
    "plt.show()"
   ]
  },
  {
   "cell_type": "markdown",
   "metadata": {},
   "source": [
    "The above graph is almost a straight line which demonstrates that the approximated kilometers and the calculated kilometers are close to being the same."
   ]
  }
 ],
 "metadata": {
  "kernelspec": {
   "display_name": "Python 3",
   "language": "python",
   "name": "python3"
  },
  "language_info": {
   "codemirror_mode": {
    "name": "ipython",
    "version": 3
   },
   "file_extension": ".py",
   "mimetype": "text/x-python",
   "name": "python",
   "nbconvert_exporter": "python",
   "pygments_lexer": "ipython3",
   "version": "3.5.1"
  }
 },
 "nbformat": 4,
 "nbformat_minor": 0
}
